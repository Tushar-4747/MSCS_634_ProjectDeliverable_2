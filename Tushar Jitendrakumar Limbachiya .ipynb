{
 "cells": [
  {
   "cell_type": "code",
   "execution_count": 1,
   "id": "202751e5-ee14-49e8-9d34-f04187cc77f7",
   "metadata": {},
   "outputs": [
    {
     "name": "stdout",
     "output_type": "stream",
     "text": [
      "Linear Regression:\n",
      "  R²: 0.8498  MSE: 3.6842  RMSE: 1.9194\n",
      "\n",
      "Ridge Regression:\n",
      "  R²: 0.8496  MSE: 3.6903  RMSE: 1.9210\n",
      "\n",
      "Linear Regression CV R² mean: 0.7956\n",
      "Ridge Regression CV R² mean: 0.7956\n"
     ]
    },
    {
     "data": {
      "image/png": "[encoded data removed]",
      "text/plain": [
       "<Figure size 640x480 with 1 Axes>"
      ]
     },
     "metadata": {},
     "output_type": "display_data"
    }
   ],
   "source": [
    "# index_1_regression_analysis.ipynb\n",
    "\n",
    "#  1. Import Libraries\n",
    "import pandas as pd\n",
    "import numpy as np\n",
    "import matplotlib.pyplot as plt\n",
    "import seaborn as sns\n",
    "from sklearn.model_selection import train_test_split, cross_val_score\n",
    "from sklearn.linear_model import LinearRegression, Ridge\n",
    "from sklearn.metrics import mean_squared_error, r2_score\n",
    "from sklearn.preprocessing import OneHotEncoder\n",
    "from sklearn.compose import ColumnTransformer\n",
    "from sklearn.pipeline import Pipeline\n",
    "\n",
    "#  2. Load Dataset\n",
    "df = pd.read_csv(\"index_1.csv\")\n",
    "df['datetime'] = pd.to_datetime(df['datetime'])\n",
    "\n",
    "#  3. Feature Engineering\n",
    "df['hour'] = df['datetime'].dt.hour\n",
    "df['day_of_week'] = df['datetime'].dt.dayofweek  # Monday=0, Sunday=6\n",
    "\n",
    "# Drop unused columns\n",
    "df_model = df[['money', 'hour', 'day_of_week', 'coffee_name']]\n",
    "\n",
    "#  4. Prepare Features and Target\n",
    "X = df_model.drop(\"money\", axis=1)\n",
    "y = df_model[\"money\"]\n",
    "\n",
    "#  5. Preprocessing with Pipeline\n",
    "categorical_features = ['coffee_name']\n",
    "numeric_features = ['hour', 'day_of_week']\n",
    "\n",
    "preprocessor = ColumnTransformer(\n",
    "    transformers=[\n",
    "        ('cat', OneHotEncoder(drop='first'), categorical_features),\n",
    "        ('num', 'passthrough', numeric_features)\n",
    "    ]\n",
    ")\n",
    "\n",
    "# 6. Train-Test Split\n",
    "X_train, X_test, y_train, y_test = train_test_split(X, y, test_size=0.2, random_state=42)\n",
    "\n",
    "#  7. Linear Regression Model\n",
    "lr_pipeline = Pipeline(steps=[('preprocessor', preprocessor),\n",
    "                              ('regressor', LinearRegression())])\n",
    "\n",
    "lr_pipeline.fit(X_train, y_train)\n",
    "y_pred_lr = lr_pipeline.predict(X_test)\n",
    "\n",
    "#  8. Ridge Regression Model\n",
    "ridge_pipeline = Pipeline(steps=[('preprocessor', preprocessor),\n",
    "                                 ('regressor', Ridge(alpha=1.0))])\n",
    "\n",
    "ridge_pipeline.fit(X_train, y_train)\n",
    "y_pred_ridge = ridge_pipeline.predict(X_test)\n",
    "\n",
    "#  9. Evaluation Function\n",
    "def evaluate_model(name, y_true, y_pred):\n",
    "    r2 = r2_score(y_true, y_pred)\n",
    "    mse = mean_squared_error(y_true, y_pred)\n",
    "    rmse = np.sqrt(mse)\n",
    "    print(f\"{name}:\\n  R²: {r2:.4f}  MSE: {mse:.4f}  RMSE: {rmse:.4f}\\n\")\n",
    "    return {\"model\": name, \"r2\": r2, \"mse\": mse, \"rmse\": rmse}\n",
    "\n",
    "#  10. Evaluate Models\n",
    "results = []\n",
    "results.append(evaluate_model(\"Linear Regression\", y_test, y_pred_lr))\n",
    "results.append(evaluate_model(\"Ridge Regression\", y_test, y_pred_ridge))\n",
    "\n",
    "#  11. Cross-Validation\n",
    "cv_lr = cross_val_score(lr_pipeline, X, y, cv=5, scoring='r2')\n",
    "cv_ridge = cross_val_score(ridge_pipeline, X, y, cv=5, scoring='r2')\n",
    "\n",
    "print(f\"Linear Regression CV R² mean: {cv_lr.mean():.4f}\")\n",
    "print(f\"Ridge Regression CV R² mean: {cv_ridge.mean():.4f}\")\n",
    "\n",
    "#  12. Visualize Results\n",
    "result_df = pd.DataFrame(results)\n",
    "sns.barplot(data=result_df, x=\"model\", y=\"r2\")\n",
    "plt.title(\"Model Comparison (R-squared)\")\n",
    "plt.show()\n"
   ]
  },
  {
   "cell_type": "code",
   "execution_count": null,
   "id": "1e92827f-401f-4c28-910d-106502a56b93",
   "metadata": {},
   "outputs": [],
   "source": []
  }
 ],
 "metadata": {
  "kernelspec": {
   "display_name": "Python 3 (ipykernel)",
   "language": "python",
   "name": "python3"
  },
  "language_info": {
   "codemirror_mode": {
    "name": "ipython",
    "version": 3
   },
   "file_extension": ".py",
   "mimetype": "text/x-python",
   "name": "python",
   "nbconvert_exporter": "python",
   "pygments_lexer": "ipython3",
   "version": "3.9.13"
  }
 },
 "nbformat": 4,
 "nbformat_minor": 5
}
